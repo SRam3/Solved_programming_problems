{
 "cells": [
  {
   "cell_type": "markdown",
   "metadata": {},
   "source": [
    "## Programming exercises\n",
    "\n"
   ]
  },
  {
   "cell_type": "markdown",
   "metadata": {},
   "source": [
    "Using Python to solve programming problems from different code platforms"
   ]
  },
  {
   "cell_type": "code",
   "execution_count": null,
   "metadata": {},
   "outputs": [],
   "source": [
    "#1.Write a program that finds all the numbers that are divisible by 7 but are not multiples of 5 between 2000 and 3200\n",
    "\n",
    "a = 0\n",
    "\n",
    "for x in range(2000, 3200+1):\n",
    "    if x % 7 == 0 and x % 5 != 0:\n",
    "        a += x\n",
    "print(a)\n"
   ]
  },
  {
   "cell_type": "code",
   "execution_count": null,
   "metadata": {},
   "outputs": [],
   "source": [
    "#2. write a program that calculates whether a number is prime or not\n",
    "\n",
    "n = int(input(\"enter a number: \"))\n",
    "\n",
    "if n >= 1:\n",
    "    flag  = True\n",
    "    for i in range(2, n):\n",
    "        if (n % i) == 0:\n",
    "            flag = False\n",
    "            break\n",
    "\n",
    "    if flag:\n",
    "        print('n is prime')\n",
    "    else:\n",
    "        print('n is not prime')\n",
    "\n",
    "#Another method\n",
    "# divisor = 0\n",
    "# for i in range(1, n + 1):\n",
    "# \tif n % i == 0:\n",
    "# \t\tdivisores += 1\n",
    "\n",
    "# if divisores == 2:\n",
    "# \tprint('n is prime')\n",
    "# else:\n",
    "# \tprint('n is not prime')"
   ]
  },
  {
   "cell_type": "code",
   "execution_count": null,
   "metadata": {},
   "outputs": [],
   "source": [
    "#3. Write a program that counts how many numbers are multiples of 2 in a list\n",
    "l = [1, 2, 3, 4, 5, 6, 7, 8, 9, 10]\n",
    "m = []\n",
    "count = 0\n",
    "\n",
    "for x in l:\n",
    "    if x % 2 == 0:\n",
    "        count += 1\n",
    "        m.append(x)\n",
    "print(count)\n"
   ]
  },
  {
   "cell_type": "code",
   "execution_count": null,
   "metadata": {},
   "outputs": [],
   "source": [
    "#4. Write a program that inverts a text string\n",
    "name = input('chain text: ')\n",
    "inverted = \"\"\n",
    "\n",
    "for x in range(len(name)):\n",
    "    inverted += name[-x - 1]\n",
    "print(inverted)\n"
   ]
  },
  {
   "cell_type": "code",
   "execution_count": null,
   "metadata": {},
   "outputs": [],
   "source": [
    "#6. Calculate the number of days since you have born\n",
    "\n",
    "\"\"\"One way in which to determine the number of\n",
    "days in a month is to subtract the first of \n",
    "the given month from the first of the next month. \n",
    "The result should be the number of days in the given month.\"\"\"\n",
    "\n",
    "import datetime\n",
    "\n",
    "def days_in_month(year, month):\n",
    "    \"\"\"\n",
    "    Inputs:\n",
    "      year  - an integer between datetime.MINYEAR and datetime.MAXYEAR\n",
    "              representing the year\n",
    "      month - an integer between 1 and 12 representing the month\n",
    "\n",
    "    Returns:\n",
    "      The number of days in the input month.\n",
    "    \"\"\"\n",
    "    \n",
    "    if (datetime.MINYEAR <= year <= datetime.MAXYEAR) and (1 <= month <= 11):\n",
    "        date1 = datetime.date(year, month, 1)\n",
    "        date2 = datetime.date(year, month + 1, 1)\n",
    "        \n",
    "        return (date2 - date1).days\n",
    "\n",
    "    elif (datetime.MINYEAR <= year <= datetime.MAXYEAR) and (month == 12):\n",
    "        date1 = datetime.datetime(year, month, 1)\n",
    "        date2 = datetime.datetime(year + 1, 1, 1)\n",
    "        \n",
    "        return (date2 - date1).days\n",
    "    \n",
    "    else:\n",
    "        \n",
    "        return False\n",
    "        \n",
    "        \n",
    "def is_valid_date(year, month, day):\n",
    "    \"\"\"\n",
    "    Inputs:\n",
    "      year  - an integer representing the year\n",
    "      month - an integer representing the month\n",
    "      day   - an integer representing the day\n",
    "      \n",
    "    Returns:\n",
    "      True if year-month-day is a valid date and\n",
    "      False otherwise\n",
    "    \"\"\"\n",
    "    \n",
    "    days = days_in_month(year, month)\n",
    "    \n",
    "    if ((datetime.MINYEAR <= year <= datetime.MAXYEAR) and (1<= month <= 12) and (0 < day <= days)):\n",
    "        return True\n",
    "    else:\n",
    "        return False    \n",
    "    \n",
    "    \n",
    "is_valid_date(2021, 8, 43)    \n",
    "\n",
    "\n",
    "\n",
    "def days_between(year1, month1, day1, year2, month2, day2):\n",
    "    \"\"\"\n",
    "    Inputs:\n",
    "      year1  - an integer representing the year of the first date\n",
    "      month1 - an integer representing the month of the first date\n",
    "      day1   - an integer representing the day of the first date\n",
    "      year2  - an integer representing the year of the second date\n",
    "      month2 - an integer representing the month of the second date\n",
    "      day2   - an integer representing the day of the second date\n",
    "\n",
    "    Returns:\n",
    "      The number of days from the first date to the second date.\n",
    "      Returns 0 if either date is invalid or the second date is\n",
    "      before the first date.\n",
    "    \"\"\"\n",
    "    if (is_valid_date(year1, month1, day1) and is_valid_date(year2, month2, day2)):\n",
    "        \n",
    "        date1 = datetime.date(year1, month1, day1)\n",
    "        date2 = datetime.date(year2, month2, day2)\n",
    "        \n",
    "        if date2 > date1:\n",
    "            return date2 - date1\n",
    "        \n",
    "        else:\n",
    "            return 0\n",
    "        \n",
    "    else:\n",
    "        \n",
    "        return 0\n",
    "            \n",
    "def age_in_days(year, month, day):\n",
    "    \"\"\"\n",
    "    Inputs:\n",
    "      year  - an integer representing the birthday year\n",
    "      month - an integer representing the birthday month\n",
    "      day   - an integer representing the birthday day\n",
    "\n",
    "    Returns:\n",
    "      The age of a person with the input birthday as of today.\n",
    "      Returns 0 if the input date is invalid or if the input\n",
    "      date is in the future.\n",
    "    \"\"\"\n",
    "    if is_valid_date(year, month, day):\n",
    "        \n",
    "        today = datetime.date.today()\n",
    "        birthday = datetime.date(year, month, day)\n",
    "        \n",
    "        if (birthday < today):\n",
    "            person_age_in_days = days_between(year, month, day, today.year, today.month, today.day)\n",
    "            \n",
    "            return person_age_in_days\n",
    "        \n",
    "        else:\n",
    "            \n",
    "            return 0\n",
    "    else:\n",
    "        \n",
    "        return 0\n",
    "    \n",
    "print(age_in_days(1995, 2, 18))\n",
    "        "
   ]
  },
  {
   "cell_type": "code",
   "execution_count": null,
   "metadata": {},
   "outputs": [],
   "source": [
    "#7. Format\n",
    "\n",
    "mood1 = \"happy\"\n",
    "mood2 = \"Exited\"\n",
    "sentence1 = \"I feel {1}, do you feel {0}?  Or are you {0}? I'm not sure if we should be {1}.\".format(mood1, mood2)\n",
    "print(sentence1)"
   ]
  },
  {
   "cell_type": "code",
   "execution_count": null,
   "metadata": {},
   "outputs": [],
   "source": [
    "#8. Format\n",
    "\n",
    "name1 = \"Pierre\"\n",
    "age1 = 7\n",
    "name2 = \"May\"\n",
    "age2 = 13\n",
    "\n",
    "line1 = \"{0:^7} {1:>3}\".format(name1, age1)\n",
    "line2 = \"{0:^7} {1:>3}\".format(name2, age2)\n",
    "print(line1)\n",
    "print(line2)"
   ]
  },
  {
   "cell_type": "code",
   "execution_count": null,
   "metadata": {},
   "outputs": [],
   "source": [
    "#9. Given an array of strings, return another array containing all of its longest strings. For inputArray = [\"aba\", \"aa\", \"ad\", \"vcd\", \"aba\"], the output should be\n",
    "#solution(inputArray) = [\"aba\", \"vcd\", \"aba\"]\n",
    "\n",
    "inputArray = [\"onsfnib\", \"aokbcwthc\", \"jrfcw\"]\n",
    "\n",
    "def longest_string_in_array(array):\n",
    "    output_array = []\n",
    "    for element in array:\n",
    "        if len(element) == len(max(array, key=len)):\n",
    "            output_array.append(element)\n",
    "    print(output_array)\n",
    "        \n",
    "longest_string_in_array(inputArray)"
   ]
  },
  {
   "cell_type": "code",
   "execution_count": null,
   "metadata": {
    "scrolled": true
   },
   "outputs": [],
   "source": [
    "#10.Given two strings, find the number of common characters between them.\n",
    "\n",
    "s1 = \"aabcc\"\n",
    "s2 = \"adcaa\"\n",
    "\n",
    "def solution(s1, s2):   \n",
    "    count_s1 = {}\n",
    "    for element in s1:\n",
    "        if element in count_s1:\n",
    "            count_s1[element] += 1\n",
    "        else:\n",
    "            count_s1[element] = 1\n",
    "    \n",
    "    count_s2 = {}\n",
    "    for element in s2:\n",
    "        if element in count_s2:\n",
    "            count_s2[element] += 1\n",
    "        else:\n",
    "            count_s2[element] = 1\n",
    "    \n",
    "    count = {}\n",
    "    for key1 in count_s1:\n",
    "        for key2 in count_s2:\n",
    "            if key1 == key2:\n",
    "                count[key1] = min(count_s1[key1], count_s2[key2])\n",
    "                \n",
    "    print(sum(count.values()))\n",
    "\n",
    "    \n",
    "solution(s1, s2)"
   ]
  },
  {
   "cell_type": "code",
   "execution_count": 9,
   "metadata": {},
   "outputs": [
    {
     "name": "stdout",
     "output_type": "stream",
     "text": [
      "True\n"
     ]
    }
   ],
   "source": [
    "#11. Ticket numbers usually consist of an even number of digits. A ticket number is considered lucky if the sum of the first half of the digits is equal to the sum of the second half.Given a ticket number n, determine if it's lucky or not\n",
    "\n",
    "def solution(n):\n",
    "    first_half = str(n)[:len(str(n)) // 2]\n",
    "    second_half = str(n)[len(str(n)) // 2:]\n",
    "    \n",
    "    \n",
    "    def sum_haves(halves):\n",
    "        sum_half = 0\n",
    "        for number in halves:\n",
    "            sum_half += int(number)\n",
    "        return sum_half\n",
    "        \n",
    "    if sum_haves(first_half) == sum_haves(second_half):\n",
    "        print(True)\n",
    "    else:\n",
    "        print(False)\n",
    "    \n",
    "\n",
    "solution(4040)"
   ]
  },
  {
   "cell_type": "code",
   "execution_count": 2,
   "metadata": {},
   "outputs": [
    {
     "name": "stdout",
     "output_type": "stream",
     "text": [
      "[150, 190, 170, 160, 180]\n"
     ]
    }
   ],
   "source": [
    "#12.Some people are standing in a row in a park. There are trees between them which cannot be moved. Your task is to rearrange the people by their heights in a non-descending order without moving the trees.\n",
    "\n",
    "a = [-1, 150, 190, 170, -1, -1, 160, 180]\n",
    "\n",
    "def solution(a):\n",
    "    rearrange = []\n",
    "    for tree in range(len(a)):\n",
    "        if a[tree] == -1:\n",
    "            pass\n",
    "        else:\n",
    "            rearrange.append(a[tree])\n",
    "    print(rearrange)\n",
    "\n",
    "solution(a)"
   ]
  },
  {
   "cell_type": "code",
   "execution_count": 19,
   "metadata": {},
   "outputs": [
    {
     "name": "stdout",
     "output_type": "stream",
     "text": [
      "[-1, 130, 130, 130, 130, -1, -1, 160]\n"
     ]
    }
   ],
   "source": [
    "a = [-1, 150, 190, 170, 130, -1, -1, 160, 180]\n",
    "\n",
    "\n",
    "def solution(lst):\n",
    "    lst_solution = []   \n",
    "    for i in range(len(lst) - 1):\n",
    "        if lst[i] == -1:\n",
    "            lst_solution.append(lst[i])\n",
    "        else:\n",
    "            min_number = lst[i]\n",
    "            for j in range(i, len(lst)):\n",
    "                if lst[j] == -1:\n",
    "                    break\n",
    "                elif lst[j] < lst[i]:\n",
    "                    min_number = lst[j]            \n",
    "                \n",
    "                    \n",
    "            lst_solution.append(min_number)                          \n",
    "                                        \n",
    "    print(lst_solution)\n",
    "    \n",
    "\n",
    "solution(a)"
   ]
  },
  {
   "cell_type": "code",
   "execution_count": null,
   "metadata": {},
   "outputs": [],
   "source": []
  }
 ],
 "metadata": {
  "kernelspec": {
   "display_name": "Python 3 (ipykernel)",
   "language": "python",
   "name": "python3"
  },
  "language_info": {
   "codemirror_mode": {
    "name": "ipython",
    "version": 3
   },
   "file_extension": ".py",
   "mimetype": "text/x-python",
   "name": "python",
   "nbconvert_exporter": "python",
   "pygments_lexer": "ipython3",
   "version": "3.9.7"
  }
 },
 "nbformat": 4,
 "nbformat_minor": 2
}
